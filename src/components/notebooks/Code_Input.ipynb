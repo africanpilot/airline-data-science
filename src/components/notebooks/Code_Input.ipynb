{
 "cells": [
  {
   "cell_type": "code",
   "execution_count": null,
   "metadata": {},
   "outputs": [],
   "source": [
    "import pandas as pd\n",
    "import seaborn as sns; sns.set()\n",
    "import matplotlib.pyplot as plt\n",
    "\n",
    "df = pd.read_csv('Wt_Intel.csv')\n",
    "\n",
    "# ax = df.plot.scatter(x='Weight', y='Intelligence')\n",
    "# plt.scatter(x='Weight', y='Intelligence')\n",
    "\n",
    "ax = sns.scatterplot(x='Weight', y='Intelligence'\n",
    "    ,hue='Species_Code', data=df)\n",
    "\n"
   ]
  }
 ],
 "metadata": {},
 "nbformat": 4,
 "nbformat_minor": 4
}
