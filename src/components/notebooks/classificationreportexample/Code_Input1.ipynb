{
 "cells": [
  {
   "cell_type": "code",
   "execution_count": null,
   "metadata": {},
   "outputs": [],
   "source": [
    "import pandas as pd\n",
    "\n",
    "data = {'Classification Report': [0, 1,'accuracy','macro avg','weighted avg']\n",
    "        , 'precision': [0.95,0.94,\"\",0.95,0.95]\n",
    "        , 'recall': [0.91,0.97,\"\",0.94,0.95]\n",
    "        , 'f1-score': [0.93,0.96,0.95,0.94,0.95]\n",
    "        , 'support': [66,105,171,171,171]}\n",
    "df = pd.DataFrame(data=data)\n",
    "display(df)"
   ]
  }
 ],
 "metadata": {},
 "nbformat": 4,
 "nbformat_minor": 4
}
